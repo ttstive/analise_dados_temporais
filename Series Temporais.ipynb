{
 "cells": [
  {
   "cell_type": "markdown",
   "id": "0dea54f9",
   "metadata": {},
   "source": [
    "## Alucar Analisando Vendas\n"
   ]
  },
  {
   "cell_type": "code",
   "execution_count": 12,
   "id": "117c8657",
   "metadata": {},
   "outputs": [],
   "source": [
    "import pandas as pd\n",
    "import numpy as np\n",
    "#numpy é uma biblioteca do python para ajudar nas analises\n"
   ]
  },
  {
   "cell_type": "code",
   "execution_count": 13,
   "id": "51a2e3b1",
   "metadata": {},
   "outputs": [],
   "source": [
    "dados = pd.read_csv('Dados/alucar.csv')"
   ]
  },
  {
   "cell_type": "code",
   "execution_count": 14,
   "id": "5b399d0a",
   "metadata": {},
   "outputs": [
    {
     "name": "stdout",
     "output_type": "stream",
     "text": [
      "esse arquivo tem (24, 2) linhas e colunas, respectivamente\n"
     ]
    }
   ],
   "source": [
    "print('esse arquivo tem {} linhas e colunas, respectivamente'.format(dados.shape))"
   ]
  },
  {
   "cell_type": "code",
   "execution_count": 15,
   "id": "559e29cb",
   "metadata": {},
   "outputs": [
    {
     "data": {
      "text/html": [
       "<div>\n",
       "<style scoped>\n",
       "    .dataframe tbody tr th:only-of-type {\n",
       "        vertical-align: middle;\n",
       "    }\n",
       "\n",
       "    .dataframe tbody tr th {\n",
       "        vertical-align: top;\n",
       "    }\n",
       "\n",
       "    .dataframe thead th {\n",
       "        text-align: right;\n",
       "    }\n",
       "</style>\n",
       "<table border=\"1\" class=\"dataframe\">\n",
       "  <thead>\n",
       "    <tr style=\"text-align: right;\">\n",
       "      <th></th>\n",
       "      <th>mes</th>\n",
       "      <th>vendas</th>\n",
       "    </tr>\n",
       "  </thead>\n",
       "  <tbody>\n",
       "    <tr>\n",
       "      <th>0</th>\n",
       "      <td>False</td>\n",
       "      <td>False</td>\n",
       "    </tr>\n",
       "    <tr>\n",
       "      <th>1</th>\n",
       "      <td>False</td>\n",
       "      <td>False</td>\n",
       "    </tr>\n",
       "    <tr>\n",
       "      <th>2</th>\n",
       "      <td>False</td>\n",
       "      <td>False</td>\n",
       "    </tr>\n",
       "    <tr>\n",
       "      <th>3</th>\n",
       "      <td>False</td>\n",
       "      <td>False</td>\n",
       "    </tr>\n",
       "    <tr>\n",
       "      <th>4</th>\n",
       "      <td>False</td>\n",
       "      <td>False</td>\n",
       "    </tr>\n",
       "    <tr>\n",
       "      <th>5</th>\n",
       "      <td>False</td>\n",
       "      <td>False</td>\n",
       "    </tr>\n",
       "    <tr>\n",
       "      <th>6</th>\n",
       "      <td>False</td>\n",
       "      <td>False</td>\n",
       "    </tr>\n",
       "    <tr>\n",
       "      <th>7</th>\n",
       "      <td>False</td>\n",
       "      <td>False</td>\n",
       "    </tr>\n",
       "    <tr>\n",
       "      <th>8</th>\n",
       "      <td>False</td>\n",
       "      <td>False</td>\n",
       "    </tr>\n",
       "    <tr>\n",
       "      <th>9</th>\n",
       "      <td>False</td>\n",
       "      <td>False</td>\n",
       "    </tr>\n",
       "    <tr>\n",
       "      <th>10</th>\n",
       "      <td>False</td>\n",
       "      <td>False</td>\n",
       "    </tr>\n",
       "    <tr>\n",
       "      <th>11</th>\n",
       "      <td>False</td>\n",
       "      <td>False</td>\n",
       "    </tr>\n",
       "    <tr>\n",
       "      <th>12</th>\n",
       "      <td>False</td>\n",
       "      <td>False</td>\n",
       "    </tr>\n",
       "    <tr>\n",
       "      <th>13</th>\n",
       "      <td>False</td>\n",
       "      <td>False</td>\n",
       "    </tr>\n",
       "    <tr>\n",
       "      <th>14</th>\n",
       "      <td>False</td>\n",
       "      <td>False</td>\n",
       "    </tr>\n",
       "    <tr>\n",
       "      <th>15</th>\n",
       "      <td>False</td>\n",
       "      <td>False</td>\n",
       "    </tr>\n",
       "    <tr>\n",
       "      <th>16</th>\n",
       "      <td>False</td>\n",
       "      <td>False</td>\n",
       "    </tr>\n",
       "    <tr>\n",
       "      <th>17</th>\n",
       "      <td>False</td>\n",
       "      <td>False</td>\n",
       "    </tr>\n",
       "    <tr>\n",
       "      <th>18</th>\n",
       "      <td>False</td>\n",
       "      <td>False</td>\n",
       "    </tr>\n",
       "    <tr>\n",
       "      <th>19</th>\n",
       "      <td>False</td>\n",
       "      <td>False</td>\n",
       "    </tr>\n",
       "    <tr>\n",
       "      <th>20</th>\n",
       "      <td>False</td>\n",
       "      <td>False</td>\n",
       "    </tr>\n",
       "    <tr>\n",
       "      <th>21</th>\n",
       "      <td>False</td>\n",
       "      <td>False</td>\n",
       "    </tr>\n",
       "    <tr>\n",
       "      <th>22</th>\n",
       "      <td>False</td>\n",
       "      <td>False</td>\n",
       "    </tr>\n",
       "    <tr>\n",
       "      <th>23</th>\n",
       "      <td>False</td>\n",
       "      <td>False</td>\n",
       "    </tr>\n",
       "  </tbody>\n",
       "</table>\n",
       "</div>"
      ],
      "text/plain": [
       "      mes  vendas\n",
       "0   False   False\n",
       "1   False   False\n",
       "2   False   False\n",
       "3   False   False\n",
       "4   False   False\n",
       "5   False   False\n",
       "6   False   False\n",
       "7   False   False\n",
       "8   False   False\n",
       "9   False   False\n",
       "10  False   False\n",
       "11  False   False\n",
       "12  False   False\n",
       "13  False   False\n",
       "14  False   False\n",
       "15  False   False\n",
       "16  False   False\n",
       "17  False   False\n",
       "18  False   False\n",
       "19  False   False\n",
       "20  False   False\n",
       "21  False   False\n",
       "22  False   False\n",
       "23  False   False"
      ]
     },
     "execution_count": 15,
     "metadata": {},
     "output_type": "execute_result"
    }
   ],
   "source": [
    "dados.isna()"
   ]
  },
  {
   "cell_type": "code",
   "execution_count": 16,
   "id": "a01516b5",
   "metadata": {},
   "outputs": [
    {
     "name": "stdout",
     "output_type": "stream",
     "text": [
      "esses dados nao possuem valores nulos\n"
     ]
    }
   ],
   "source": [
    "print('esses dados nao possuem valores nulos')"
   ]
  },
  {
   "cell_type": "code",
   "execution_count": 17,
   "id": "6f6ccdb0",
   "metadata": {},
   "outputs": [],
   "source": [
    "dados['mes']= pd.to_datetime(dados['mes'])"
   ]
  },
  {
   "cell_type": "code",
   "execution_count": 18,
   "id": "d361bd12",
   "metadata": {},
   "outputs": [
    {
     "data": {
      "text/plain": [
       "mes       datetime64[ns]\n",
       "vendas             int64\n",
       "dtype: object"
      ]
     },
     "execution_count": 18,
     "metadata": {},
     "output_type": "execute_result"
    }
   ],
   "source": [
    "dados.dtypes"
   ]
  },
  {
   "cell_type": "code",
   "execution_count": 19,
   "id": "a11b144a",
   "metadata": {},
   "outputs": [
    {
     "name": "stdout",
     "output_type": "stream",
     "text": [
      "Requirement already satisfied: seaborn==0.9.0 in /home/estevaolins/anaconda3/lib/python3.9/site-packages (0.9.0)\n",
      "Requirement already satisfied: matplotlib>=1.4.3 in /home/estevaolins/anaconda3/lib/python3.9/site-packages (from seaborn==0.9.0) (3.5.2)\n",
      "Requirement already satisfied: scipy>=0.14.0 in /home/estevaolins/anaconda3/lib/python3.9/site-packages (from seaborn==0.9.0) (1.9.1)\n",
      "Requirement already satisfied: pandas>=0.15.2 in /home/estevaolins/anaconda3/lib/python3.9/site-packages (from seaborn==0.9.0) (1.4.4)\n",
      "Requirement already satisfied: numpy>=1.9.3 in /home/estevaolins/anaconda3/lib/python3.9/site-packages (from seaborn==0.9.0) (1.21.5)\n",
      "Requirement already satisfied: pillow>=6.2.0 in /home/estevaolins/anaconda3/lib/python3.9/site-packages (from matplotlib>=1.4.3->seaborn==0.9.0) (9.2.0)\n",
      "Requirement already satisfied: cycler>=0.10 in /home/estevaolins/anaconda3/lib/python3.9/site-packages (from matplotlib>=1.4.3->seaborn==0.9.0) (0.11.0)\n",
      "Requirement already satisfied: packaging>=20.0 in /home/estevaolins/anaconda3/lib/python3.9/site-packages (from matplotlib>=1.4.3->seaborn==0.9.0) (21.3)\n",
      "Requirement already satisfied: pyparsing>=2.2.1 in /home/estevaolins/anaconda3/lib/python3.9/site-packages (from matplotlib>=1.4.3->seaborn==0.9.0) (3.0.9)\n",
      "Requirement already satisfied: kiwisolver>=1.0.1 in /home/estevaolins/anaconda3/lib/python3.9/site-packages (from matplotlib>=1.4.3->seaborn==0.9.0) (1.4.2)\n",
      "Requirement already satisfied: python-dateutil>=2.7 in /home/estevaolins/anaconda3/lib/python3.9/site-packages (from matplotlib>=1.4.3->seaborn==0.9.0) (2.8.2)\n",
      "Requirement already satisfied: fonttools>=4.22.0 in /home/estevaolins/anaconda3/lib/python3.9/site-packages (from matplotlib>=1.4.3->seaborn==0.9.0) (4.25.0)\n",
      "Requirement already satisfied: pytz>=2020.1 in /home/estevaolins/anaconda3/lib/python3.9/site-packages (from pandas>=0.15.2->seaborn==0.9.0) (2022.1)\n",
      "Requirement already satisfied: six>=1.5 in /home/estevaolins/anaconda3/lib/python3.9/site-packages (from python-dateutil>=2.7->matplotlib>=1.4.3->seaborn==0.9.0) (1.16.0)\n"
     ]
    }
   ],
   "source": [
    "!pip install seaborn==0.9.0\n",
    "import seaborn as sns\n",
    "#seaborn é uma biblioteca com funções para visualização de dados(sns)\n",
    "%matplotlib inline\n",
    "#matplotlib é importado tbm como uma biblioteca de visualização de dados(plt)\n",
    "\n",
    "from matplotlib import pyplot as plt"
   ]
  },
  {
   "cell_type": "code",
   "execution_count": 20,
   "id": "b413dda1",
   "metadata": {},
   "outputs": [
    {
     "ename": "NameError",
     "evalue": "name 'mes' is not defined",
     "output_type": "error",
     "traceback": [
      "\u001b[0;31m---------------------------------------------------------------------------\u001b[0m",
      "\u001b[0;31mNameError\u001b[0m                                 Traceback (most recent call last)",
      "\u001b[0;32m/tmp/ipykernel_18747/2010728300.py\u001b[0m in \u001b[0;36m<module>\u001b[0;34m\u001b[0m\n\u001b[0;32m----> 1\u001b[0;31m \u001b[0mmes\u001b[0m\u001b[0;34m\u001b[0m\u001b[0;34m\u001b[0m\u001b[0m\n\u001b[0m",
      "\u001b[0;31mNameError\u001b[0m: name 'mes' is not defined"
     ]
    }
   ],
   "source": [
    "mes"
   ]
  },
  {
   "cell_type": "code",
   "execution_count": null,
   "id": "6c75021b",
   "metadata": {},
   "outputs": [],
   "source": [
    "sns.set_palette('Accent')\n",
    "sns.set_style('whitegrid')\n",
    "ax = sns.lineplot(x = 'vendas', y = 'mes', data = dados)\n",
    "ax.figure.set_size_inches(12,6)\n",
    "ax.set_title('Vendas alucar de 2017 e 2018')\n",
    "ax.set_xlabel('Tempo', fontsize = '14')\n",
    "ax.set_ylabel('Vendas', fontsize = '14')"
   ]
  },
  {
   "cell_type": "code",
   "execution_count": null,
   "id": "6e4dd034",
   "metadata": {},
   "outputs": [],
   "source": [
    "dados.head(5)\n"
   ]
  },
  {
   "cell_type": "code",
   "execution_count": null,
   "id": "3e206289",
   "metadata": {},
   "outputs": [],
   "source": [
    "dados['aumento'] = dados[['vendas']].diff()"
   ]
  },
  {
   "cell_type": "code",
   "execution_count": null,
   "id": "026297d1",
   "metadata": {},
   "outputs": [],
   "source": [
    "dados.head(5)"
   ]
  },
  {
   "cell_type": "code",
   "execution_count": null,
   "id": "34de77a5",
   "metadata": {},
   "outputs": [],
   "source": [
    "dados.fillna(0)\n",
    "def plotar_increase(titulo, labelx, labely, x, y, dataset):\n",
    "    sns.set_palette('Accent')\n",
    "    sns.set_style('darkgrid')\n",
    "    ax = sns.lineplot(x = x, y =y , data = dataset)\n",
    "    ax.figure.set_size_inches(12,6)\n",
    "    ax.set_title('Aumento das vendas da alucar de 2017 e 2018')\n",
    "    ax.set_xlabel(labelx, fontsize = '14')\n",
    "    ax.set_ylabel(labely, fontsize = '14')\n",
    "    ax=ax"
   ]
  },
  {
   "cell_type": "code",
   "execution_count": null,
   "id": "182d23c0",
   "metadata": {},
   "outputs": [],
   "source": [
    "plotar_increase('Aumento das Vendas Alucar 2017 e 2018', 'Tempo', 'Aumento',\n",
    "               'mes', 'aumento', dados)"
   ]
  },
  {
   "cell_type": "code",
   "execution_count": null,
   "id": "628888f1",
   "metadata": {},
   "outputs": [],
   "source": [
    "dados['aceleração'] = dados[['aumento']].diff()\n"
   ]
  },
  {
   "cell_type": "code",
   "execution_count": null,
   "id": "cc299a99",
   "metadata": {},
   "outputs": [],
   "source": [
    "#define o meu codigo fica na sequencia dos seguintes dados para serem escritos como strings = (título,labelx,labely,x,y,dataset)"
   ]
  },
  {
   "cell_type": "code",
   "execution_count": null,
   "id": "c53448ab",
   "metadata": {},
   "outputs": [],
   "source": [
    "plotar_increase('Aceleração das Vendas da Alucar 2017 e 2018', 'Tempo', 'Aceleração', \n",
    "                 'mes', 'aceleração', dados)"
   ]
  },
  {
   "cell_type": "code",
   "execution_count": null,
   "id": "ce908842",
   "metadata": {},
   "outputs": [],
   "source": [
    "plt.figure(figsize = (16, 12))\n",
    "ax = plt.subplot(3,1,1)\n",
    "ax.set_title('Analise da Alucar 2017 e 2018', fontsize = 18, loc = 'left')\n",
    "plt.subplot(3,1,1)\n",
    "sns.lineplot(x='mes', y='vendas', data=dados)\n",
    "plt.subplot(3,1,2)\n",
    "sns.lineplot(x='mes', y='aumento', data=dados)\n",
    "plt.subplot(3,1,3)\n",
    "sns.lineplot(x='mes', y='aceleração', data=dados)\n",
    "ax=ax\n",
    "\n"
   ]
  },
  {
   "cell_type": "code",
   "execution_count": null,
   "id": "465371b1",
   "metadata": {},
   "outputs": [],
   "source": [
    "def plot_comparacao(x, y1, y2, y3, dataset, titulo):\n",
    "    plt.figure(figsize=(16,12))\n",
    "    ax = plt.subplot(3,1,1)\n",
    "    ax.set_title(titulo,fontsize=18, loc='left')\n",
    "    sns.lineplot(x=x, y=y1, data=dataset)\n",
    "    plt.subplot(3,1,2)\n",
    "    sns.lineplot(x=x, y=y2, data=dataset)\n",
    "    plt.subplot(3,1,3)\n",
    "    sns.lineplot(x=x, y=y3, data =dataset)\n",
    "    ax=ax"
   ]
  },
  {
   "cell_type": "code",
   "execution_count": null,
   "id": "acd38c8a",
   "metadata": {},
   "outputs": [],
   "source": [
    "plot_comparacao('mes', 'vendas', 'aumento', 'aceleração', \n",
    "               dados, 'Analise de Comparação Vendas alucar 2017 e 2018')"
   ]
  },
  {
   "cell_type": "code",
   "execution_count": 21,
   "id": "f7ca1c0e",
   "metadata": {},
   "outputs": [
    {
     "data": {
      "text/plain": [
       "<AxesSubplot:xlabel='Lag', ylabel='Autocorrelation'>"
      ]
     },
     "execution_count": 21,
     "metadata": {},
     "output_type": "execute_result"
    },
    {
     "data": {
      "image/png": "[encoded data removed]",
      "text/plain": [
       "<Figure size 640x480 with 1 Axes>"
      ]
     },
     "metadata": {},
     "output_type": "display_data"
    }
   ],
   "source": [
    "from pandas.plotting import autocorrelation_plot\n",
    "autocorrelation_plot(dados.vendas)\n",
    "#autocorrelation é o mesmo que autocorrelação, baseado na análise de uma variancia de -1 até 1\n"
   ]
  },
  {
   "cell_type": "code",
   "execution_count": 22,
   "id": "163a6c40",
   "metadata": {},
   "outputs": [
    {
     "data": {
      "image/png": "[encoded data removed]",
      "text/plain": [
       "<Figure size 1000x500 with 1 Axes>"
      ]
     },
     "metadata": {},
     "output_type": "display_data"
    }
   ],
   "source": [
    "ax = plt.figure(figsize=(10,5))\n",
    "ax.suptitle('Correlação das Vendas')\n",
    "autocorrelation_plot(dados.vendas)\n",
    "ax=ax"
   ]
  },
  {
   "cell_type": "code",
   "execution_count": 23,
   "id": "ead46e7b",
   "metadata": {},
   "outputs": [
    {
     "ename": "AttributeError",
     "evalue": "'DataFrame' object has no attribute 'aumento'",
     "output_type": "error",
     "traceback": [
      "\u001b[0;31m---------------------------------------------------------------------------\u001b[0m",
      "\u001b[0;31mAttributeError\u001b[0m                            Traceback (most recent call last)",
      "\u001b[0;32m/tmp/ipykernel_18747/3477737176.py\u001b[0m in \u001b[0;36m<module>\u001b[0;34m\u001b[0m\n\u001b[1;32m      1\u001b[0m \u001b[0max\u001b[0m \u001b[0;34m=\u001b[0m \u001b[0mplt\u001b[0m\u001b[0;34m.\u001b[0m\u001b[0mfigure\u001b[0m\u001b[0;34m(\u001b[0m\u001b[0mfigsize\u001b[0m\u001b[0;34m=\u001b[0m\u001b[0;34m(\u001b[0m\u001b[0;36m16\u001b[0m\u001b[0;34m,\u001b[0m\u001b[0;36m8\u001b[0m\u001b[0;34m)\u001b[0m\u001b[0;34m)\u001b[0m\u001b[0;34m\u001b[0m\u001b[0;34m\u001b[0m\u001b[0m\n\u001b[1;32m      2\u001b[0m \u001b[0max\u001b[0m\u001b[0;34m.\u001b[0m\u001b[0msuptitle\u001b[0m\u001b[0;34m(\u001b[0m\u001b[0;34m'Correlação do aumento'\u001b[0m\u001b[0;34m)\u001b[0m\u001b[0;34m\u001b[0m\u001b[0;34m\u001b[0m\u001b[0m\n\u001b[0;32m----> 3\u001b[0;31m \u001b[0mautocorrelation_plot\u001b[0m\u001b[0;34m(\u001b[0m\u001b[0mdados\u001b[0m\u001b[0;34m.\u001b[0m\u001b[0maumento\u001b[0m\u001b[0;34m[\u001b[0m\u001b[0;36m1\u001b[0m\u001b[0;34m:\u001b[0m\u001b[0;34m]\u001b[0m\u001b[0;34m)\u001b[0m\u001b[0;34m\u001b[0m\u001b[0;34m\u001b[0m\u001b[0m\n\u001b[0m\u001b[1;32m      4\u001b[0m \u001b[0max\u001b[0m\u001b[0;34m=\u001b[0m\u001b[0max\u001b[0m\u001b[0;34m\u001b[0m\u001b[0;34m\u001b[0m\u001b[0m\n",
      "\u001b[0;32m~/anaconda3/lib/python3.9/site-packages/pandas/core/generic.py\u001b[0m in \u001b[0;36m__getattr__\u001b[0;34m(self, name)\u001b[0m\n\u001b[1;32m   5573\u001b[0m         ):\n\u001b[1;32m   5574\u001b[0m             \u001b[0;32mreturn\u001b[0m \u001b[0mself\u001b[0m\u001b[0;34m[\u001b[0m\u001b[0mname\u001b[0m\u001b[0;34m]\u001b[0m\u001b[0;34m\u001b[0m\u001b[0;34m\u001b[0m\u001b[0m\n\u001b[0;32m-> 5575\u001b[0;31m         \u001b[0;32mreturn\u001b[0m \u001b[0mobject\u001b[0m\u001b[0;34m.\u001b[0m\u001b[0m__getattribute__\u001b[0m\u001b[0;34m(\u001b[0m\u001b[0mself\u001b[0m\u001b[0;34m,\u001b[0m \u001b[0mname\u001b[0m\u001b[0;34m)\u001b[0m\u001b[0;34m\u001b[0m\u001b[0;34m\u001b[0m\u001b[0m\n\u001b[0m\u001b[1;32m   5576\u001b[0m \u001b[0;34m\u001b[0m\u001b[0m\n\u001b[1;32m   5577\u001b[0m     \u001b[0;32mdef\u001b[0m \u001b[0m__setattr__\u001b[0m\u001b[0;34m(\u001b[0m\u001b[0mself\u001b[0m\u001b[0;34m,\u001b[0m \u001b[0mname\u001b[0m\u001b[0;34m:\u001b[0m \u001b[0mstr\u001b[0m\u001b[0;34m,\u001b[0m \u001b[0mvalue\u001b[0m\u001b[0;34m)\u001b[0m \u001b[0;34m->\u001b[0m \u001b[0;32mNone\u001b[0m\u001b[0;34m:\u001b[0m\u001b[0;34m\u001b[0m\u001b[0;34m\u001b[0m\u001b[0m\n",
      "\u001b[0;31mAttributeError\u001b[0m: 'DataFrame' object has no attribute 'aumento'"
     ]
    },
    {
     "data": {
      "text/plain": [
       "<Figure size 1600x800 with 0 Axes>"
      ]
     },
     "metadata": {},
     "output_type": "display_data"
    }
   ],
   "source": [
    "ax = plt.figure(figsize=(16,8))\n",
    "ax.suptitle('Correlação do aumento')\n",
    "autocorrelation_plot(dados.aumento[1:])\n",
    "ax=ax"
   ]
  },
  {
   "cell_type": "code",
   "execution_count": 24,
   "id": "7ad34237",
   "metadata": {},
   "outputs": [
    {
     "data": {
      "text/html": [
       "<div>\n",
       "<style scoped>\n",
       "    .dataframe tbody tr th:only-of-type {\n",
       "        vertical-align: middle;\n",
       "    }\n",
       "\n",
       "    .dataframe tbody tr th {\n",
       "        vertical-align: top;\n",
       "    }\n",
       "\n",
       "    .dataframe thead th {\n",
       "        text-align: right;\n",
       "    }\n",
       "</style>\n",
       "<table border=\"1\" class=\"dataframe\">\n",
       "  <thead>\n",
       "    <tr style=\"text-align: right;\">\n",
       "      <th></th>\n",
       "      <th>mes</th>\n",
       "      <th>vendas</th>\n",
       "    </tr>\n",
       "  </thead>\n",
       "  <tbody>\n",
       "    <tr>\n",
       "      <th>0</th>\n",
       "      <td>2017-01-31</td>\n",
       "      <td>10</td>\n",
       "    </tr>\n",
       "    <tr>\n",
       "      <th>1</th>\n",
       "      <td>2017-02-28</td>\n",
       "      <td>20</td>\n",
       "    </tr>\n",
       "    <tr>\n",
       "      <th>2</th>\n",
       "      <td>2017-03-31</td>\n",
       "      <td>33</td>\n",
       "    </tr>\n",
       "    <tr>\n",
       "      <th>3</th>\n",
       "      <td>2017-04-30</td>\n",
       "      <td>47</td>\n",
       "    </tr>\n",
       "    <tr>\n",
       "      <th>4</th>\n",
       "      <td>2017-05-31</td>\n",
       "      <td>63</td>\n",
       "    </tr>\n",
       "  </tbody>\n",
       "</table>\n",
       "</div>"
      ],
      "text/plain": [
       "         mes  vendas\n",
       "0 2017-01-31      10\n",
       "1 2017-02-28      20\n",
       "2 2017-03-31      33\n",
       "3 2017-04-30      47\n",
       "4 2017-05-31      63"
      ]
     },
     "execution_count": 24,
     "metadata": {},
     "output_type": "execute_result"
    }
   ],
   "source": [
    "dados.fillna(0)\n",
    "dados.fillna(0).head(5)"
   ]
  },
  {
   "cell_type": "code",
   "execution_count": 25,
   "id": "24612eef",
   "metadata": {},
   "outputs": [
    {
     "ename": "AttributeError",
     "evalue": "'DataFrame' object has no attribute 'aceleração'",
     "output_type": "error",
     "traceback": [
      "\u001b[0;31m---------------------------------------------------------------------------\u001b[0m",
      "\u001b[0;31mAttributeError\u001b[0m                            Traceback (most recent call last)",
      "\u001b[0;32m/tmp/ipykernel_18747/1230962271.py\u001b[0m in \u001b[0;36m<module>\u001b[0;34m\u001b[0m\n\u001b[1;32m      1\u001b[0m \u001b[0max\u001b[0m \u001b[0;34m=\u001b[0m \u001b[0mplt\u001b[0m\u001b[0;34m.\u001b[0m\u001b[0mfigure\u001b[0m\u001b[0;34m(\u001b[0m\u001b[0mfigsize\u001b[0m\u001b[0;34m=\u001b[0m\u001b[0;34m(\u001b[0m\u001b[0;36m16\u001b[0m\u001b[0;34m,\u001b[0m\u001b[0;36m8\u001b[0m\u001b[0;34m)\u001b[0m\u001b[0;34m)\u001b[0m\u001b[0;34m\u001b[0m\u001b[0;34m\u001b[0m\u001b[0m\n\u001b[1;32m      2\u001b[0m \u001b[0max\u001b[0m\u001b[0;34m.\u001b[0m\u001b[0msuptitle\u001b[0m\u001b[0;34m(\u001b[0m\u001b[0;34m'Correlação da Aceleração'\u001b[0m\u001b[0;34m)\u001b[0m\u001b[0;34m\u001b[0m\u001b[0;34m\u001b[0m\u001b[0m\n\u001b[0;32m----> 3\u001b[0;31m \u001b[0mautocorrelation_plot\u001b[0m\u001b[0;34m(\u001b[0m\u001b[0mdados\u001b[0m\u001b[0;34m.\u001b[0m\u001b[0maceleração\u001b[0m\u001b[0;34m[\u001b[0m\u001b[0;36m3\u001b[0m\u001b[0;34m:\u001b[0m\u001b[0;34m]\u001b[0m\u001b[0;34m)\u001b[0m\u001b[0;34m\u001b[0m\u001b[0;34m\u001b[0m\u001b[0m\n\u001b[0m\u001b[1;32m      4\u001b[0m \u001b[0max\u001b[0m\u001b[0;34m=\u001b[0m\u001b[0max\u001b[0m\u001b[0;34m\u001b[0m\u001b[0;34m\u001b[0m\u001b[0m\n",
      "\u001b[0;32m~/anaconda3/lib/python3.9/site-packages/pandas/core/generic.py\u001b[0m in \u001b[0;36m__getattr__\u001b[0;34m(self, name)\u001b[0m\n\u001b[1;32m   5573\u001b[0m         ):\n\u001b[1;32m   5574\u001b[0m             \u001b[0;32mreturn\u001b[0m \u001b[0mself\u001b[0m\u001b[0;34m[\u001b[0m\u001b[0mname\u001b[0m\u001b[0;34m]\u001b[0m\u001b[0;34m\u001b[0m\u001b[0;34m\u001b[0m\u001b[0m\n\u001b[0;32m-> 5575\u001b[0;31m         \u001b[0;32mreturn\u001b[0m \u001b[0mobject\u001b[0m\u001b[0;34m.\u001b[0m\u001b[0m__getattribute__\u001b[0m\u001b[0;34m(\u001b[0m\u001b[0mself\u001b[0m\u001b[0;34m,\u001b[0m \u001b[0mname\u001b[0m\u001b[0;34m)\u001b[0m\u001b[0;34m\u001b[0m\u001b[0;34m\u001b[0m\u001b[0m\n\u001b[0m\u001b[1;32m   5576\u001b[0m \u001b[0;34m\u001b[0m\u001b[0m\n\u001b[1;32m   5577\u001b[0m     \u001b[0;32mdef\u001b[0m \u001b[0m__setattr__\u001b[0m\u001b[0;34m(\u001b[0m\u001b[0mself\u001b[0m\u001b[0;34m,\u001b[0m \u001b[0mname\u001b[0m\u001b[0;34m:\u001b[0m \u001b[0mstr\u001b[0m\u001b[0;34m,\u001b[0m \u001b[0mvalue\u001b[0m\u001b[0;34m)\u001b[0m \u001b[0;34m->\u001b[0m \u001b[0;32mNone\u001b[0m\u001b[0;34m:\u001b[0m\u001b[0;34m\u001b[0m\u001b[0;34m\u001b[0m\u001b[0m\n",
      "\u001b[0;31mAttributeError\u001b[0m: 'DataFrame' object has no attribute 'aceleração'"
     ]
    },
    {
     "data": {
      "text/plain": [
       "<Figure size 1600x800 with 0 Axes>"
      ]
     },
     "metadata": {},
     "output_type": "display_data"
    }
   ],
   "source": [
    "ax = plt.figure(figsize=(16,8))\n",
    "ax.suptitle('Correlação da Aceleração')\n",
    "autocorrelation_plot(dados.aceleração[3:])\n",
    "ax=ax"
   ]
  },
  {
   "cell_type": "code",
   "execution_count": null,
   "id": "c91ef237",
   "metadata": {},
   "outputs": [],
   "source": []
  },
  {
   "cell_type": "code",
   "execution_count": null,
   "id": "dbbdc33c",
   "metadata": {},
   "outputs": [],
   "source": []
  }
 ],
 "metadata": {
  "kernelspec": {
   "display_name": "Python 3 (ipykernel)",
   "language": "python",
   "name": "python3"
  },
  "language_info": {
   "codemirror_mode": {
    "name": "ipython",
    "version": 3
   },
   "file_extension": ".py",
   "mimetype": "text/x-python",
   "name": "python",
   "nbconvert_exporter": "python",
   "pygments_lexer": "ipython3",
   "version": "3.9.13"
  }
 },
 "nbformat": 4,
 "nbformat_minor": 5
}
